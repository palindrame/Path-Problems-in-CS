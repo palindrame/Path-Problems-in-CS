{
 "cells": [
  {
   "cell_type": "code",
   "execution_count": 2,
   "id": "2a40c06e-7b7f-4da2-8709-a5498eba9e89",
   "metadata": {},
   "outputs": [
    {
     "name": "stdout",
     "output_type": "stream",
     "text": [
      "Graph data saved to graph_data.csv with source: n0 and destination: n49\n"
     ]
    }
   ],
   "source": [
    "import random\n",
    "import csv\n",
    "\n",
    "def generate_graph(num_nodes, num_edges, filename=\"graph_data.csv\"):\n",
    "    nodes = [f'n{i}' for i in range(num_nodes)]\n",
    "    edges = []\n",
    "    \n",
    "    while len(edges) < num_edges:\n",
    "        u = random.choice(nodes)\n",
    "        v = random.choice(nodes)\n",
    "        if u != v and (u, v) not in [(e[0], e[1]) for e in edges]:\n",
    "            weight = random.randint(-10, 10)\n",
    "            edges.append((u, v, weight))\n",
    "    \n",
    "    destination_node = nodes[-1]  # The last node is the destination\n",
    "    \n",
    "    with open(filename, \"w\", newline=\"\") as f:\n",
    "        writer = csv.writer(f)\n",
    "        writer.writerow([\"source\", \"target\", \"weight\"])\n",
    "        writer.writerows(edges)\n",
    "    \n",
    "    print(f\"Graph data saved to {filename} with source: n0 and destination: {destination_node}\")\n",
    "    \n",
    "    return filename, destination_node\n",
    "\n",
    "if __name__ == \"__main__\":\n",
    "    num_nodes = 50\n",
    "    num_edges = 400\n",
    "    generate_graph(num_nodes, num_edges)\n"
   ]
  },
  {
   "cell_type": "code",
   "execution_count": null,
   "id": "a5be4dcf-c9cb-4006-8feb-06cfe5803218",
   "metadata": {},
   "outputs": [],
   "source": []
  }
 ],
 "metadata": {
  "kernelspec": {
   "display_name": "Python 3 (ipykernel)",
   "language": "python",
   "name": "python3"
  },
  "language_info": {
   "codemirror_mode": {
    "name": "ipython",
    "version": 3
   },
   "file_extension": ".py",
   "mimetype": "text/x-python",
   "name": "python",
   "nbconvert_exporter": "python",
   "pygments_lexer": "ipython3",
   "version": "3.12.4"
  }
 },
 "nbformat": 4,
 "nbformat_minor": 5
}

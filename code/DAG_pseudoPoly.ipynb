{
 "cells": [
  {
   "cell_type": "markdown",
   "id": "e878a53f-b823-4ebb-983a-e9d3f52da428",
   "metadata": {},
   "source": [
    "## MOST REWARDING PATH PROBLEM (WITH CONSTRAINT ON NEG. EDGES)"
   ]
  },
  {
   "cell_type": "markdown",
   "id": "1af16020-bce2-42af-9dff-d018728b5c46",
   "metadata": {},
   "source": [
    "### Psuedopolynomial approach in O( |V|.|E|.C)"
   ]
  },
  {
   "cell_type": "code",
   "execution_count": 10,
   "id": "ee1de4c2-f0cf-40a7-aaf0-fb6d8b526112",
   "metadata": {},
   "outputs": [
    {
     "name": "stdin",
     "output_type": "stream",
     "text": [
      "Enter the nodes separated by commas:  s,a,b,c,t\n"
     ]
    },
    {
     "name": "stdout",
     "output_type": "stream",
     "text": [
      "Enter the edges with weights (format: u,v,weight). Type 'done' when finished.\n"
     ]
    },
    {
     "name": "stdin",
     "output_type": "stream",
     "text": [
      " s,a,1\n",
      " a,b,2\n",
      " b,c,-4\n",
      " c,a,1\n",
      " b,t,3\n",
      " done\n",
      "Enter the source vertex:  s\n",
      "Enter the terminal vertex:  t\n",
      "Enter the loss bound constraint:  5\n"
     ]
    },
    {
     "name": "stdout",
     "output_type": "stream",
     "text": [
      "The longest path from s to t with a loss bound of 5 is 6\n"
     ]
    }
   ],
   "source": [
    "# Function to create a graph from user input\n",
    "def create_graph():\n",
    "    nodes = input(\"Enter the nodes separated by commas: \").strip().split(',')\n",
    "    edges = {}\n",
    "    print(\"Enter the edges with weights (format: u,v,weight). Type 'done' when finished.\")\n",
    "    while True:\n",
    "        edge_input = input().strip()\n",
    "        if edge_input.lower() == 'done':\n",
    "            break\n",
    "        u, v, weight = edge_input.split(',')\n",
    "        edges[(u, v)] = int(weight)\n",
    "    return nodes, edges\n",
    "\n",
    "# Function to find the longest path with constraints\n",
    "def findLongestPathWithConstraints(nodes, edges, start, end, C):\n",
    "    dp = {node: [-float('inf')] * (C + 1) for node in nodes}\n",
    "    \n",
    "    dp[start][C] = 0\n",
    "\n",
    "    for remainingCost in range(C, -1, -1):\n",
    "        for u in nodes:\n",
    "            if dp[u][remainingCost] == -float('inf'):\n",
    "                continue\n",
    "            for (u_edge, v_edge), w in edges.items():\n",
    "                if u_edge == u:\n",
    "                    if w >= 0:\n",
    "                        dp[v_edge][remainingCost] = max(dp[v_edge][remainingCost], dp[u][remainingCost] + w)\n",
    "                    else:\n",
    "                        absW = abs(w)\n",
    "                        if remainingCost >= absW:\n",
    "                            dp[v_edge][remainingCost - absW] = max(dp[v_edge][remainingCost - absW], dp[u][remainingCost] + w)\n",
    "\n",
    "    longestPath = -float('inf')\n",
    "    for remainingCost in range(C + 1):\n",
    "        longestPath = max(longestPath, dp[end][remainingCost])\n",
    "\n",
    "    return longestPath\n",
    "\n",
    "# Get graph from user input\n",
    "nodes, edges = create_graph()\n",
    "s = input(\"Enter the source vertex: \")\n",
    "t = input(\"Enter the terminal vertex: \")\n",
    "\n",
    "# Set the constant C\n",
    "C = int(input(\"Enter the loss bound constraint: \"))\n",
    "\n",
    "# Find the longest path with the given constraints\n",
    "longest_path = findLongestPathWithConstraints(nodes, edges, s, t, C)\n",
    "\n",
    "# Print the result\n",
    "print(f\"The longest path from {s} to {t} with a loss bound of {C} is {longest_path}\")\n"
   ]
  },
  {
   "cell_type": "markdown",
   "id": "7518ae76-3ff5-4667-a4c4-fe6d57a40095",
   "metadata": {},
   "source": [
    "### -----------------------------------------------------------------------------------------------------------------------------------"
   ]
  },
  {
   "cell_type": "markdown",
   "id": "f3a20b74-f8cf-4e64-80fc-6ad58436e801",
   "metadata": {},
   "source": [
    "### Created a separate dict for storing and assigning indices to nodes and added comments"
   ]
  },
  {
   "cell_type": "code",
   "execution_count": null,
   "id": "72193e78-7a1b-4e1d-9923-edfa999e7a8d",
   "metadata": {},
   "outputs": [],
   "source": [
    "# Function to create a graph from user input\n",
    "def create_graph():\n",
    "    # input all the vertices as : v1,v2,v3,...,vn and create a list for the same\n",
    "    nodes = input(\"Enter the nodes separated by commas: \").strip().split(',')\n",
    "    # create a dict to store the edges in the format {(u,v): weight}\n",
    "    edges = {}\n",
    "    print(\"Enter the edges with weights (format: u,v,weight). Type 'done' when finished.\")\n",
    "    while True:\n",
    "        edge_input = input().strip()\n",
    "        if edge_input.lower() == 'done':\n",
    "            break\n",
    "        u, v, weight = edge_input.split(',')\n",
    "        edges[(u, v)] = int(weight)\n",
    "    return nodes, edges\n",
    "# Function ends after returning the Vertex and Edge Sets.\n",
    "\n",
    "\n",
    "\n",
    "\n",
    "# Function to find the longest path with constraints.\n",
    "# Takes as input parameters: Vertex and Edge Sets, starting and ending vertices & the loss constraint(C).  \n",
    "# Loss constraint (C) is the absolute value of the maximum allowable sum of negative weights on the path from the source to the terminal vertex.\n",
    "# Note: c, remainging budget, remainingCost might be used interchangeably henceforth.\n",
    "def findLongestPathWithConstraints(nodes, edges, start, end, C):\n",
    "    # V is the size of the vertex set.\n",
    "    V = len(nodes)\n",
    "    # create a 2-D dp table with V rows and C+1 columns.\n",
    "    # dp[v][c] is the most rewarding path to reach vertex v from the source vertex with loss constraint ATMOST C.\n",
    "    # the rows in the table represent the vertices.\n",
    "    # the columns in the table represent the value of the remaining budget (starting from C down to 0).\n",
    "    # Initialize all cells with -inf to start with.\n",
    "    dp = [[-float('inf')] * (C + 1) for _ in range(V)]\n",
    "    # node_index is a dict {node : idx} to assign an index value to each vertex instead of having to deal with individual vertex names in the subsequent code fragment.\n",
    "    # vertex names in general might be difficult to deal with so we assign 0, 1, 2, 3, and so on to the vertices of the Vertex Set.\n",
    "    node_index = {node: idx for idx, node in enumerate(nodes)}\n",
    "\n",
    "    # assign dp[source][C] as 0 as the maximum cost to reach the source vertex from itself with the full negative budget is zero.\n",
    "    dp[node_index[start]][C] = 0\n",
    "\n",
    "    # loop over the \"remaining budget\", i.e. from C down to 0; decrementing the remaining budget by 1 on each iteration.\n",
    "    for remainingCost in range(C, -1, -1):\n",
    "        # loop over the Vertex set of the graph\n",
    "        for u in nodes:   # <<<< ################################################################################################################\n",
    "            # u_idx is the index value assigned to vertex u according to the dict. node_index{node : idx}                                        #\n",
    "            u_idx = node_index[u]                                                                                                               #\n",
    "            # if for a vertex u and a remaining cost c, dp[u][c] is found to be -inf; then skip over that vertex entirely and go back to >>>>####\n",
    "            # the reason being it wont be able to contribute to a path from s to t for a particular remainingCost c, i.e. as there is no way to\n",
    "            # reach u from the source for a particular remainingCost (represented by -inf); it wont be able to form a path and there is no point\n",
    "            # in checking what nodes are adjacent to it and any further calculations thereafter.\n",
    "            if dp[u_idx][remainingCost] == -float('inf'):\n",
    "                continue\n",
    "            # loop over all the edges(u_edge,v_edge, weight) in the Edge Set.\n",
    "            for (u_edge, v_edge), w in edges.items():\n",
    "                # if u_edge is the vertex u under consideration from the previous loop;\n",
    "                # then assign v_idx the index value according to the dict. node_index.\n",
    "                # in other words, we check adjacent vertices v, for the vertex u under consideration from the previous loop. \n",
    "                if u_edge == u:\n",
    "                    v_idx = node_index[v_edge]\n",
    "                    # if the weight(w), for the edge(u_edge, v_edge) under consideration is positive:\n",
    "                    # then simply compare which is greater;\n",
    "                    # (the cell value already assigned to dp[v_edge][c]) OR (the path weight upto u_edge + the edge weight from u_edge to v_edge) \n",
    "                    # In other words, check if taking this edge(u_edge, v_edge) results in the path weight(from source to v_edge) being greater than \n",
    "                    # the already assigned value(in the table) to reach the vertex v_edge from the source vertex.\n",
    "                    # Assign to v_idx( i.e. v_edge) the greater of the two values.\n",
    "                    if w >= 0:\n",
    "                        dp[v_idx][remainingCost] = max(dp[v_idx][remainingCost], dp[u_idx][remainingCost] + w)\n",
    "                    # if the weight(w), for the edge(u_edge, v_edge) under consideration is negative:\n",
    "                    # then first we need to check if we can even consider taking this edge, by checking the current remaining allowable budget.\n",
    "                    # if we are good to go ahead, then secondly, we need to compare and assign which is greater:\n",
    "                    # (the current assigned value to the cell dp[v_edge][c-absoluteWeight]) OR (the value of the path till u + taking the negative edge).\n",
    "                    # Note that the assignment takes place in the column \"c-absoluteWeight\" and not the column \"c\" itself unlike the positive weight edges.\n",
    "                    # This happens as the allowable remaining budget changes on adding a negative edge to the path; which on the other hand ...\n",
    "                    # would have remained unaffected on adding a positive edge weight.\n",
    "                    # Also notice the cell dp[v_edge][c-absoluteWeight] might not necessarily always have the value -inf while comapring as ...\n",
    "                    # the row(or vertex) dp[v_edge] might have been computed before the row(or vertex) dp[u] curently under consideration.\n",
    "                    else:\n",
    "                        absoluteWeight = abs(w)\n",
    "                        if remainingCost >= absoluteWeight:\n",
    "                            dp[v_idx][remainingCost - absoluteWeight] = max(dp[v_idx][remainingCost - absoluteWeight], dp[u_idx][remainingCost] + w)\n",
    "    # find the longest path from the row dp[terminal] of the table, since we are interested to know...\n",
    "    # what is the most rewarding path from the source to the terminal vertex.\n",
    "    # It is necessary to check every element from the row as the most rewarding path might not necessarily need to use the full negative weight budget. \n",
    "    # The path might also be infeasible accorrding to our constraint, in which case we return -inf as the most rewarding path.\n",
    "    longestPath = -float('inf')\n",
    "    end_idx = node_index[end]\n",
    "    for remainingCost in range(C + 1):\n",
    "        longestPath = max(longestPath, dp[end_idx][remainingCost])\n",
    "\n",
    "    return longestPath\n",
    "# Function ends after returning the longest path\n",
    "\n",
    "\n",
    "\n",
    "\n",
    "# Get graph from user input\n",
    "nodes, edges = create_graph()\n",
    "s = input(\"Enter the source vertex: \")\n",
    "t = input(\"Enter the terminal vertex: \")\n",
    "\n",
    "# Set the constant C, i.e. the maximum allowable negative sum of weights on the path from the source vertex to the terminal vertex.\n",
    "C = int(input(\"Enter the loss bound constraint: \"))\n",
    "\n",
    "# Find the most rewarding path from s to t with the given constraints.\n",
    "longest_path = findLongestPathWithConstraints(nodes, edges, s, t, C)\n",
    "\n",
    "# Print the result\n",
    "print(f\"The longest path from {s} to {t} with a loss bound of {C} is {longest_path}\")\n"
   ]
  },
  {
   "cell_type": "code",
   "execution_count": null,
   "id": "29a913ed-057a-4e6c-91eb-e8e838010d07",
   "metadata": {},
   "outputs": [],
   "source": []
  }
 ],
 "metadata": {
  "kernelspec": {
   "display_name": "Python 3 (ipykernel)",
   "language": "python",
   "name": "python3"
  },
  "language_info": {
   "codemirror_mode": {
    "name": "ipython",
    "version": 3
   },
   "file_extension": ".py",
   "mimetype": "text/x-python",
   "name": "python",
   "nbconvert_exporter": "python",
   "pygments_lexer": "ipython3",
   "version": "3.12.4"
  }
 },
 "nbformat": 4,
 "nbformat_minor": 5
}
